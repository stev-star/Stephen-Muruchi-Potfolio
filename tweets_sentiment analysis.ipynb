{
 "cells": [
  {
   "cell_type": "code",
   "execution_count": 1,
   "metadata": {},
   "outputs": [],
   "source": [
    "import pyspark"
   ]
  },
  {
   "cell_type": "code",
   "execution_count": 2,
   "metadata": {},
   "outputs": [],
   "source": [
    "from pyspark.sql import SparkSession\n",
    "spark=SparkSession.builder.appName('spark_pipeline').getOrCreate()"
   ]
  },
  {
   "cell_type": "code",
   "execution_count": 3,
   "metadata": {},
   "outputs": [],
   "source": [
    "df=spark.read.csv('Tweets.csv',header=True,inferSchema=True)"
   ]
  },
  {
   "cell_type": "code",
   "execution_count": 4,
   "metadata": {},
   "outputs": [
    {
     "name": "stdout",
     "output_type": "stream",
     "text": [
      "+----------+--------------------+--------------------+---------+\n",
      "|    textID|                text|       selected_text|sentiment|\n",
      "+----------+--------------------+--------------------+---------+\n",
      "|cb774db0d1| I`d have respond...|I`d have responde...|  neutral|\n",
      "|549e992a42| Sooo SAD I will ...|            Sooo SAD| negative|\n",
      "|088c60f138|my boss is bullyi...|         bullying me| negative|\n",
      "|9642c003ef| what interview! ...|      leave me alone| negative|\n",
      "|358bd9e861| Sons of ****, wh...|       Sons of ****,| negative|\n",
      "+----------+--------------------+--------------------+---------+\n",
      "only showing top 5 rows\n",
      "\n"
     ]
    }
   ],
   "source": [
    "df.show(5)"
   ]
  },
  {
   "cell_type": "code",
   "execution_count": 5,
   "metadata": {},
   "outputs": [],
   "source": [
    "tweets=df.select('selected_text','sentiment')"
   ]
  },
  {
   "cell_type": "code",
   "execution_count": 6,
   "metadata": {},
   "outputs": [
    {
     "name": "stdout",
     "output_type": "stream",
     "text": [
      "+-----------------------------------+---------+\n",
      "|selected_text                      |sentiment|\n",
      "+-----------------------------------+---------+\n",
      "|I`d have responded, if I were going|neutral  |\n",
      "|Sooo SAD                           |negative |\n",
      "|bullying me                        |negative |\n",
      "|leave me alone                     |negative |\n",
      "|Sons of ****,                      |negative |\n",
      "+-----------------------------------+---------+\n",
      "only showing top 5 rows\n",
      "\n"
     ]
    }
   ],
   "source": [
    "tweets.show(5,False)"
   ]
  },
  {
   "cell_type": "code",
   "execution_count": 7,
   "metadata": {},
   "outputs": [
    {
     "data": {
      "text/plain": [
       "27481"
      ]
     },
     "execution_count": 7,
     "metadata": {},
     "output_type": "execute_result"
    }
   ],
   "source": [
    "tweets.count()"
   ]
  },
  {
   "cell_type": "code",
   "execution_count": 8,
   "metadata": {},
   "outputs": [],
   "source": [
    "#tweets=tweets.toPandas()"
   ]
  },
  {
   "cell_type": "code",
   "execution_count": 9,
   "metadata": {},
   "outputs": [],
   "source": [
    "#tweets.isna().sum()"
   ]
  },
  {
   "cell_type": "code",
   "execution_count": 10,
   "metadata": {},
   "outputs": [],
   "source": [
    "#tweets=tweets.dropna()"
   ]
  },
  {
   "cell_type": "code",
   "execution_count": 11,
   "metadata": {},
   "outputs": [],
   "source": [
    "#tweets.isna().sum()"
   ]
  },
  {
   "cell_type": "code",
   "execution_count": 12,
   "metadata": {},
   "outputs": [],
   "source": [
    "tweets=df.dropna()"
   ]
  },
  {
   "cell_type": "code",
   "execution_count": 13,
   "metadata": {},
   "outputs": [
    {
     "data": {
      "text/plain": [
       "27478"
      ]
     },
     "execution_count": 13,
     "metadata": {},
     "output_type": "execute_result"
    }
   ],
   "source": [
    "tweets.count()"
   ]
  },
  {
   "cell_type": "code",
   "execution_count": 14,
   "metadata": {},
   "outputs": [],
   "source": [
    "from pyspark.ml.feature import StringIndexer "
   ]
  },
  {
   "cell_type": "code",
   "execution_count": 15,
   "metadata": {},
   "outputs": [],
   "source": [
    "tweets=StringIndexer(inputCol='sentiment',outputCol='label').fit(tweets).transform(tweets)\n"
   ]
  },
  {
   "cell_type": "code",
   "execution_count": 16,
   "metadata": {},
   "outputs": [
    {
     "name": "stdout",
     "output_type": "stream",
     "text": [
      "+----------+----------------------------------------------+-----------------------------------+---------+-----+\n",
      "|textID    |text                                          |selected_text                      |sentiment|label|\n",
      "+----------+----------------------------------------------+-----------------------------------+---------+-----+\n",
      "|cb774db0d1| I`d have responded, if I were going          |I`d have responded, if I were going|neutral  |0.0  |\n",
      "|549e992a42| Sooo SAD I will miss you here in San Diego!!!|Sooo SAD                           |negative |2.0  |\n",
      "|088c60f138|my boss is bullying me...                     |bullying me                        |negative |2.0  |\n",
      "|9642c003ef| what interview! leave me alone               |leave me alone                     |negative |2.0  |\n",
      "+----------+----------------------------------------------+-----------------------------------+---------+-----+\n",
      "only showing top 4 rows\n",
      "\n"
     ]
    }
   ],
   "source": [
    "tweets.show(4,False)"
   ]
  },
  {
   "cell_type": "code",
   "execution_count": 17,
   "metadata": {},
   "outputs": [
    {
     "name": "stdout",
     "output_type": "stream",
     "text": [
      "root\n",
      " |-- textID: string (nullable = true)\n",
      " |-- text: string (nullable = true)\n",
      " |-- selected_text: string (nullable = true)\n",
      " |-- sentiment: string (nullable = true)\n",
      " |-- label: double (nullable = false)\n",
      "\n"
     ]
    }
   ],
   "source": [
    "tweets.printSchema()"
   ]
  },
  {
   "cell_type": "code",
   "execution_count": 18,
   "metadata": {},
   "outputs": [],
   "source": [
    "train_df,test_df=tweets.randomSplit([0.7,0.3])"
   ]
  },
  {
   "cell_type": "code",
   "execution_count": 19,
   "metadata": {},
   "outputs": [],
   "source": [
    "from pyspark.ml.feature import Tokenizer\n",
    "from pyspark.ml.feature import StopWordsRemover\n",
    "from pyspark.ml.feature import HashingTF,IDF\n",
    "from pyspark.ml.feature import CountVectorizer\n",
    "from pyspark.ml.classification import LogisticRegression \n",
    "from pyspark.ml import Pipeline"
   ]
  },
  {
   "cell_type": "code",
   "execution_count": 20,
   "metadata": {},
   "outputs": [],
   "source": [
    "tokenizer=Tokenizer(inputCol='selected_text',outputCol='tokens')\n",
    "stopwordsremover=StopWordsRemover(inputCol='tokens',outputCol='tokenized_words')\n",
    "hashingtf=HashingTF(inputCol='tokenized_words',outputCol='hash_num')\n",
    "countvectorizer=CountVectorizer(inputCol='tokenized_words',outputCol='vec_num')\n",
    "idf=IDF(inputCol='vec_num',outputCol='inverse_num')\n",
    "lr=LogisticRegression(featuresCol='inverse_num',labelCol='label')"
   ]
  },
  {
   "cell_type": "code",
   "execution_count": 21,
   "metadata": {},
   "outputs": [],
   "source": [
    "pipeline=Pipeline(stages=[tokenizer,stopwordsremover,countvectorizer,idf,lr])"
   ]
  },
  {
   "cell_type": "code",
   "execution_count": 22,
   "metadata": {},
   "outputs": [],
   "source": [
    "model=pipeline.fit(train_df)"
   ]
  },
  {
   "cell_type": "code",
   "execution_count": 23,
   "metadata": {},
   "outputs": [],
   "source": [
    "predictions=model.transform(test_df)"
   ]
  },
  {
   "cell_type": "code",
   "execution_count": 24,
   "metadata": {},
   "outputs": [
    {
     "name": "stdout",
     "output_type": "stream",
     "text": [
      "+----------------------------------------------------------------------------------------+-----+----------+\n",
      "|tokenized_words                                                                         |label|prediction|\n",
      "+----------------------------------------------------------------------------------------+-----+----------+\n",
      "|[sorry]                                                                                 |2.0  |2.0       |\n",
      "|[headed, eat, hubby, n, mommy!!, , ready, drinks...]                                    |0.0  |0.0       |\n",
      "|[love]                                                                                  |1.0  |1.0       |\n",
      "|[music, collection, coming, 250gb, soon., , haha]                                       |0.0  |1.0       |\n",
      "|[bless]                                                                                 |1.0  |1.0       |\n",
      "|[last, night, fun, w]                                                                   |1.0  |2.0       |\n",
      "|[im, kind, sad..]                                                                       |2.0  |2.0       |\n",
      "|[disgusting.]                                                                           |2.0  |2.0       |\n",
      "|[happy]                                                                                 |1.0  |1.0       |\n",
      "|[can`t, seem, find, new, mountain, dew, throwback, 12, packs....only, 1, liter, bottles]|0.0  |0.0       |\n",
      "+----------------------------------------------------------------------------------------+-----+----------+\n",
      "only showing top 10 rows\n",
      "\n"
     ]
    }
   ],
   "source": [
    "predictions.select('tokenized_words','label','prediction').show(10,False)"
   ]
  },
  {
   "cell_type": "code",
   "execution_count": 25,
   "metadata": {},
   "outputs": [],
   "source": [
    "from pyspark.ml.evaluation import MulticlassClassificationEvaluator"
   ]
  },
  {
   "cell_type": "code",
   "execution_count": 26,
   "metadata": {},
   "outputs": [],
   "source": [
    "evaluator=MulticlassClassificationEvaluator(labelCol='label',predictionCol='prediction',metricName='accuracy')"
   ]
  },
  {
   "cell_type": "code",
   "execution_count": 27,
   "metadata": {},
   "outputs": [],
   "source": [
    "model_accuracy=evaluator.evaluate(predictions)"
   ]
  },
  {
   "cell_type": "code",
   "execution_count": 28,
   "metadata": {},
   "outputs": [
    {
     "data": {
      "text/plain": [
       "0.7173093297652354"
      ]
     },
     "execution_count": 28,
     "metadata": {},
     "output_type": "execute_result"
    }
   ],
   "source": [
    " model_accuracy"
   ]
  }
 ],
 "metadata": {
  "kernelspec": {
   "display_name": "Python 3.10.7 64-bit",
   "language": "python",
   "name": "python3"
  },
  "language_info": {
   "codemirror_mode": {
    "name": "ipython",
    "version": 3
   },
   "file_extension": ".py",
   "mimetype": "text/x-python",
   "name": "python",
   "nbconvert_exporter": "python",
   "pygments_lexer": "ipython3",
   "version": "3.10.7"
  },
  "orig_nbformat": 4,
  "vscode": {
   "interpreter": {
    "hash": "9aa35706b8240673f64110bf0e53af9de07b6fe568279410737684274bc6a9e5"
   }
  }
 },
 "nbformat": 4,
 "nbformat_minor": 2
}
